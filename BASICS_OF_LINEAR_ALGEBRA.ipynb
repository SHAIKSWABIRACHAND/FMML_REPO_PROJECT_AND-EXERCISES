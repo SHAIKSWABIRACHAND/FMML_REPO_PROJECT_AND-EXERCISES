{"cells":[{"cell_type":"code","execution_count":null,"metadata":{"id":"5LR1fEN1mOyE"},"outputs":[],"source":["print(\"hello  world\")"]}],"metadata":{"colab":{"authorship_tag":"ABX9TyOpQe4yLR1zavL367GLihIe","provenance":[]},"kernelspec":{"display_name":"Python 3","name":"python3"},"language_info":{"name":"python"}},"nbformat":4,"nbformat_minor":0},
{
  "cell_type": "markdown",
  "metadata": {},
  "source": [
    "[![Open In Colab](https://colab.research.google.com/assets/colab-badge.svg)](https://colab.research.google.com/github/SHAIKSWABIRACHAND/FMML_REPO_PROJECT_AND-EXERCISES/blob/main/BASICS_OF_LINEAR_ALGEBRA.ipynb)"
  ]
}
